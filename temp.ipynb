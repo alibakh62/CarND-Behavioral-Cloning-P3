{
 "cells": [
  {
   "cell_type": "code",
   "execution_count": 1,
   "metadata": {},
   "outputs": [],
   "source": [
    "import numpy as np\n",
    "import pandas as pd"
   ]
  },
  {
   "cell_type": "code",
   "execution_count": 7,
   "metadata": {},
   "outputs": [],
   "source": [
    "df = pd.read_csv(\"data/driving_log.csv\")"
   ]
  },
  {
   "cell_type": "code",
   "execution_count": 8,
   "metadata": {},
   "outputs": [
    {
     "data": {
      "text/plain": [
       "(1464, 7)"
      ]
     },
     "execution_count": 8,
     "metadata": {},
     "output_type": "execute_result"
    }
   ],
   "source": [
    "df.shape"
   ]
  },
  {
   "cell_type": "code",
   "execution_count": 10,
   "metadata": {},
   "outputs": [
    {
     "data": {
      "text/html": [
       "<div>\n",
       "<style scoped>\n",
       "    .dataframe tbody tr th:only-of-type {\n",
       "        vertical-align: middle;\n",
       "    }\n",
       "\n",
       "    .dataframe tbody tr th {\n",
       "        vertical-align: top;\n",
       "    }\n",
       "\n",
       "    .dataframe thead th {\n",
       "        text-align: right;\n",
       "    }\n",
       "</style>\n",
       "<table border=\"1\" class=\"dataframe\">\n",
       "  <thead>\n",
       "    <tr style=\"text-align: right;\">\n",
       "      <th></th>\n",
       "      <th>center_img</th>\n",
       "      <th>left_img</th>\n",
       "      <th>right_img</th>\n",
       "      <th>steering_angle</th>\n",
       "      <th>throttle</th>\n",
       "      <th>break</th>\n",
       "      <th>speed</th>\n",
       "    </tr>\n",
       "  </thead>\n",
       "  <tbody>\n",
       "    <tr>\n",
       "      <th>0</th>\n",
       "      <td>/Users/abakh005/Downloads/IMG/center_2019_02_1...</td>\n",
       "      <td>/Users/abakh005/Downloads/IMG/left_2019_02_18_...</td>\n",
       "      <td>/Users/abakh005/Downloads/IMG/right_2019_02_18...</td>\n",
       "      <td>0.0</td>\n",
       "      <td>0.0</td>\n",
       "      <td>0</td>\n",
       "      <td>0.000054</td>\n",
       "    </tr>\n",
       "    <tr>\n",
       "      <th>1</th>\n",
       "      <td>/Users/abakh005/Downloads/IMG/center_2019_02_1...</td>\n",
       "      <td>/Users/abakh005/Downloads/IMG/left_2019_02_18_...</td>\n",
       "      <td>/Users/abakh005/Downloads/IMG/right_2019_02_18...</td>\n",
       "      <td>0.0</td>\n",
       "      <td>0.0</td>\n",
       "      <td>0</td>\n",
       "      <td>0.000064</td>\n",
       "    </tr>\n",
       "    <tr>\n",
       "      <th>2</th>\n",
       "      <td>/Users/abakh005/Downloads/IMG/center_2019_02_1...</td>\n",
       "      <td>/Users/abakh005/Downloads/IMG/left_2019_02_18_...</td>\n",
       "      <td>/Users/abakh005/Downloads/IMG/right_2019_02_18...</td>\n",
       "      <td>0.0</td>\n",
       "      <td>0.0</td>\n",
       "      <td>0</td>\n",
       "      <td>0.000064</td>\n",
       "    </tr>\n",
       "    <tr>\n",
       "      <th>3</th>\n",
       "      <td>/Users/abakh005/Downloads/IMG/center_2019_02_1...</td>\n",
       "      <td>/Users/abakh005/Downloads/IMG/left_2019_02_18_...</td>\n",
       "      <td>/Users/abakh005/Downloads/IMG/right_2019_02_18...</td>\n",
       "      <td>0.0</td>\n",
       "      <td>0.0</td>\n",
       "      <td>0</td>\n",
       "      <td>0.000063</td>\n",
       "    </tr>\n",
       "    <tr>\n",
       "      <th>4</th>\n",
       "      <td>/Users/abakh005/Downloads/IMG/center_2019_02_1...</td>\n",
       "      <td>/Users/abakh005/Downloads/IMG/left_2019_02_18_...</td>\n",
       "      <td>/Users/abakh005/Downloads/IMG/right_2019_02_18...</td>\n",
       "      <td>0.0</td>\n",
       "      <td>0.0</td>\n",
       "      <td>0</td>\n",
       "      <td>0.000055</td>\n",
       "    </tr>\n",
       "  </tbody>\n",
       "</table>\n",
       "</div>"
      ],
      "text/plain": [
       "                                          center_img  \\\n",
       "0  /Users/abakh005/Downloads/IMG/center_2019_02_1...   \n",
       "1  /Users/abakh005/Downloads/IMG/center_2019_02_1...   \n",
       "2  /Users/abakh005/Downloads/IMG/center_2019_02_1...   \n",
       "3  /Users/abakh005/Downloads/IMG/center_2019_02_1...   \n",
       "4  /Users/abakh005/Downloads/IMG/center_2019_02_1...   \n",
       "\n",
       "                                            left_img  \\\n",
       "0  /Users/abakh005/Downloads/IMG/left_2019_02_18_...   \n",
       "1  /Users/abakh005/Downloads/IMG/left_2019_02_18_...   \n",
       "2  /Users/abakh005/Downloads/IMG/left_2019_02_18_...   \n",
       "3  /Users/abakh005/Downloads/IMG/left_2019_02_18_...   \n",
       "4  /Users/abakh005/Downloads/IMG/left_2019_02_18_...   \n",
       "\n",
       "                                           right_img  steering_angle  \\\n",
       "0  /Users/abakh005/Downloads/IMG/right_2019_02_18...             0.0   \n",
       "1  /Users/abakh005/Downloads/IMG/right_2019_02_18...             0.0   \n",
       "2  /Users/abakh005/Downloads/IMG/right_2019_02_18...             0.0   \n",
       "3  /Users/abakh005/Downloads/IMG/right_2019_02_18...             0.0   \n",
       "4  /Users/abakh005/Downloads/IMG/right_2019_02_18...             0.0   \n",
       "\n",
       "   throttle  break     speed  \n",
       "0       0.0      0  0.000054  \n",
       "1       0.0      0  0.000064  \n",
       "2       0.0      0  0.000064  \n",
       "3       0.0      0  0.000063  \n",
       "4       0.0      0  0.000055  "
      ]
     },
     "execution_count": 10,
     "metadata": {},
     "output_type": "execute_result"
    }
   ],
   "source": [
    "df.columns = [\"center_img\", \"left_img\", \"right_img\", \"steering_angle\", \"throttle\", \"break\", \"speed\"]\n",
    "df.head()"
   ]
  },
  {
   "cell_type": "code",
   "execution_count": null,
   "metadata": {},
   "outputs": [],
   "source": []
  }
 ],
 "metadata": {
  "kernelspec": {
   "display_name": "Python 3",
   "language": "python",
   "name": "python3"
  },
  "language_info": {
   "codemirror_mode": {
    "name": "ipython",
    "version": 3
   },
   "file_extension": ".py",
   "mimetype": "text/x-python",
   "name": "python",
   "nbconvert_exporter": "python",
   "pygments_lexer": "ipython3",
   "version": "3.6.5"
  }
 },
 "nbformat": 4,
 "nbformat_minor": 2
}
